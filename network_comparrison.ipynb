{
 "cells": [
  {
   "cell_type": "code",
   "execution_count": 9,
   "metadata": {},
   "outputs": [],
   "source": [
    "import pandas as pd\n",
    "import numpy as np\n",
    "from evalutation_networks import EvaluationNetwork\n",
    "import human_mobility_networks as hm"
   ]
  },
  {
   "cell_type": "code",
   "execution_count": 10,
   "metadata": {},
   "outputs": [
    {
     "name": "stdout",
     "output_type": "stream",
     "text": [
      "edge list errors:  0\n",
      "edge changes errors:  0\n"
     ]
    },
    {
     "ename": "NameError",
     "evalue": "name 'df' is not defined",
     "output_type": "error",
     "traceback": [
      "\u001b[0;31m---------------------------------------------------------------------------\u001b[0m",
      "\u001b[0;31mNameError\u001b[0m                                 Traceback (most recent call last)",
      "\u001b[1;32m/localdata2/scho_jj/Pandemic_Networks/traf2net/network_comparrison.ipynb Cell 2\u001b[0m line \u001b[0;36m1\n\u001b[1;32m      <a href='vscode-notebook-cell://ssh-remote%2Bsc-030200l/localdata2/scho_jj/Pandemic_Networks/traf2net/network_comparrison.ipynb#W1sdnNjb2RlLXJlbW90ZQ%3D%3D?line=7'>8</a>\u001b[0m Loc_kwargs \u001b[39m=\u001b[39m {\u001b[39m'\u001b[39m\u001b[39mspaces_x\u001b[39m\u001b[39m'\u001b[39m: \u001b[39m3\u001b[39m, \u001b[39m'\u001b[39m\u001b[39mspaces_y\u001b[39m\u001b[39m'\u001b[39m:\u001b[39m3\u001b[39m, \u001b[39m'\u001b[39m\u001b[39mspace_dim_x\u001b[39m\u001b[39m'\u001b[39m:\u001b[39m10\u001b[39m, \u001b[39m'\u001b[39m\u001b[39mspace_dim_y\u001b[39m\u001b[39m'\u001b[39m:\u001b[39m10\u001b[39m}\n\u001b[1;32m      <a href='vscode-notebook-cell://ssh-remote%2Bsc-030200l/localdata2/scho_jj/Pandemic_Networks/traf2net/network_comparrison.ipynb#W1sdnNjb2RlLXJlbW90ZQ%3D%3D?line=8'>9</a>\u001b[0m Loc \u001b[39m=\u001b[39m hm\u001b[39m.\u001b[39mLocation(\u001b[39mf\u001b[39m\u001b[39m'\u001b[39m\u001b[39m{\u001b[39;00mEN\u001b[39m.\u001b[39mname\u001b[39m}\u001b[39;00m\u001b[39m_\u001b[39m\u001b[39m{\u001b[39;00mEN\u001b[39m.\u001b[39mname_identifier\u001b[39m}\u001b[39;00m\u001b[39m'\u001b[39m, \u001b[39m*\u001b[39m\u001b[39m*\u001b[39mLoc_kwargs)\n\u001b[0;32m---> <a href='vscode-notebook-cell://ssh-remote%2Bsc-030200l/localdata2/scho_jj/Pandemic_Networks/traf2net/network_comparrison.ipynb#W1sdnNjb2RlLXJlbW90ZQ%3D%3D?line=9'>10</a>\u001b[0m EN\u001b[39m.\u001b[39;49mhm_approximation(Loc, \u001b[39m'\u001b[39;49m\u001b[39mRWP\u001b[39;49m\u001b[39m'\u001b[39;49m, \u001b[39m20\u001b[39;49m)\n",
      "File \u001b[0;32m/localdata2/scho_jj/Pandemic_Networks/traf2net/evalutation_networks.py:166\u001b[0m, in \u001b[0;36mhm_approximation\u001b[0;34m(self, Loc, method, time_resotlution)\u001b[0m\n\u001b[1;32m    165\u001b[0m \u001b[39mdef\u001b[39;00m \u001b[39mhm_approximation\u001b[39m(\u001b[39mself\u001b[39m, Loc, method, time_resotlution):\n\u001b[0;32m--> 166\u001b[0m     \u001b[39mself\u001b[39m\u001b[39m.\u001b[39mmethod \u001b[39m=\u001b[39m method\n\u001b[1;32m    167\u001b[0m     ts, te \u001b[39m=\u001b[39m \u001b[39mself\u001b[39m\u001b[39m.\u001b[39mdf\u001b[39m.\u001b[39mactivity_start_min\u001b[39m.\u001b[39mmin(), \u001b[39mself\u001b[39m\u001b[39m.\u001b[39mdf\u001b[39m.\u001b[39mactivity_end_min\u001b[39m.\u001b[39mmax() \n\u001b[1;32m    168\u001b[0m     HM \u001b[39m=\u001b[39m hm\u001b[39m.\u001b[39mHumanMobilityNetwork(\u001b[39mself\u001b[39m\u001b[39m.\u001b[39mdf, Loc, ts, te, \u001b[39m20\u001b[39m, \u001b[39m20\u001b[39m)\n",
      "\u001b[0;31mNameError\u001b[0m: name 'df' is not defined"
     ]
    }
   ],
   "source": [
    "# Initiate empiriacal network\n",
    "EN = EvaluationNetwork('gallery')\n",
    "EN.to_tacoma_tn()\n",
    "\n",
    "# Initiate human mobility model approximation\n",
    "EN.eval_df_to_trajectory(180)\n",
    "\n",
    "Loc_kwargs = {'spaces_x': 3, 'spaces_y':3, 'space_dim_x':10, 'space_dim_y':10}\n",
    "Loc = hm.Location(f'{EN.name}_{EN.name_identifier}', **Loc_kwargs)\n",
    "EN.hm_approximation(Loc, 'RWP', 20)"
   ]
  },
  {
   "cell_type": "code",
   "execution_count": null,
   "metadata": {},
   "outputs": [],
   "source": []
  }
 ],
 "metadata": {
  "kernelspec": {
   "display_name": "pandemic_networks_env",
   "language": "python",
   "name": "python3"
  },
  "language_info": {
   "codemirror_mode": {
    "name": "ipython",
    "version": 3
   },
   "file_extension": ".py",
   "mimetype": "text/x-python",
   "name": "python",
   "nbconvert_exporter": "python",
   "pygments_lexer": "ipython3",
   "version": "3.11.3"
  },
  "orig_nbformat": 4,
  "vscode": {
   "interpreter": {
    "hash": "e750523536d7e5de65bf3b617b1cbb3690b88c94c89a5c80691d983ad5bb64af"
   }
  }
 },
 "nbformat": 4,
 "nbformat_minor": 2
}
