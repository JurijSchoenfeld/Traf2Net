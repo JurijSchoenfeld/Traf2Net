{
 "cells": [
  {
   "cell_type": "code",
   "execution_count": 5,
   "metadata": {},
   "outputs": [],
   "source": [
    "import pandas as pd\n",
    "import numpy as np\n",
    "from evalutation_networks import EvaluationNetwork\n",
    "import human_mobility_networks as hm\n",
    "from scipy.stats import ks_2samp\n",
    "from tacoma.api import measure_group_sizes_and_durations"
   ]
  },
  {
   "cell_type": "code",
   "execution_count": 2,
   "metadata": {},
   "outputs": [
    {
     "name": "stdout",
     "output_type": "stream",
     "text": [
      "edge list errors:  0\n",
      "edge changes errors:  0\n",
      "start\n",
      "29180\n",
      "(29180, 109, 2)\n",
      "finished simulation \n",
      "start working on network\n",
      "0\n",
      "10000\n",
      "20000\n",
      "edge list errors:  0\n",
      "edge changes errors:  0\n"
     ]
    }
   ],
   "source": [
    "# Initiate empiriacal network\n",
    "EN = EvaluationNetwork('gallery')\n",
    "EN.to_tacoma_tn()\n",
    "\n",
    "# Initiate human mobility model approximation\n",
    "EN.eval_df_to_trajectory(180)\n",
    "\n",
    "Loc_kwargs = {'spaces_x': 3, 'spaces_y':3, 'space_dim_x':10, 'space_dim_y':10}\n",
    "Loc = hm.Location(f'{EN.name}_{EN.name_identifier}', **Loc_kwargs)\n",
    "EN.hm_approximation(Loc, 'RWP', 20)"
   ]
  },
  {
   "cell_type": "markdown",
   "metadata": {},
   "source": [
    "# Calculate KS-statistics for contact times, ICT and time averaged degree"
   ]
  },
  {
   "cell_type": "code",
   "execution_count": 20,
   "metadata": {},
   "outputs": [
    {
     "name": "stdout",
     "output_type": "stream",
     "text": [
      "ICT:  KstestResult(statistic=0.10485702096010346, pvalue=8.921852831888522e-10, statistic_location=8.0, statistic_sign=-1)\n"
     ]
    },
    {
     "ename": "KeyError",
     "evalue": "'statistic'",
     "output_type": "error",
     "traceback": [
      "\u001b[0;31m---------------------------------------------------------------------------\u001b[0m",
      "\u001b[0;31mKeyError\u001b[0m                                  Traceback (most recent call last)",
      "\u001b[1;32m/localdata2/scho_jj/Pandemic_Networks/traf2net/network_comparrison.ipynb Cell 4\u001b[0m line \u001b[0;36m1\n\u001b[1;32m     <a href='vscode-notebook-cell://ssh-remote%2Bsc-030200l/localdata2/scho_jj/Pandemic_Networks/traf2net/network_comparrison.ipynb#W6sdnNjb2RlLXJlbW90ZQ%3D%3D?line=11'>12</a>\u001b[0m     ks_cd \u001b[39m=\u001b[39m ks_2samp(cd1, cd2)\n\u001b[1;32m     <a href='vscode-notebook-cell://ssh-remote%2Bsc-030200l/localdata2/scho_jj/Pandemic_Networks/traf2net/network_comparrison.ipynb#W6sdnNjb2RlLXJlbW90ZQ%3D%3D?line=12'>13</a>\u001b[0m     \u001b[39mprint\u001b[39m(cd_txt\u001b[39m.\u001b[39mformat(ks_cd\u001b[39m.\u001b[39mstatistic, ks_cd\u001b[39m.\u001b[39mpvalue))\n\u001b[0;32m---> <a href='vscode-notebook-cell://ssh-remote%2Bsc-030200l/localdata2/scho_jj/Pandemic_Networks/traf2net/network_comparrison.ipynb#W6sdnNjb2RlLXJlbW90ZQ%3D%3D?line=14'>15</a>\u001b[0m ks_statistics(EN\u001b[39m.\u001b[39;49mtn, EN\u001b[39m.\u001b[39;49mtn_approx)\n",
      "\u001b[1;32m/localdata2/scho_jj/Pandemic_Networks/traf2net/network_comparrison.ipynb Cell 4\u001b[0m line \u001b[0;36m1\n\u001b[1;32m     <a href='vscode-notebook-cell://ssh-remote%2Bsc-030200l/localdata2/scho_jj/Pandemic_Networks/traf2net/network_comparrison.ipynb#W6sdnNjb2RlLXJlbW90ZQ%3D%3D?line=10'>11</a>\u001b[0m cd_txt \u001b[39m=\u001b[39m \u001b[39m'\u001b[39m\u001b[39mcontact duration distribution, KS: \u001b[39m\u001b[39m{statistic: .2f}\u001b[39;00m\u001b[39m p=\u001b[39m\u001b[39m{pval: .2g}\u001b[39;00m\u001b[39m'\u001b[39m\n\u001b[1;32m     <a href='vscode-notebook-cell://ssh-remote%2Bsc-030200l/localdata2/scho_jj/Pandemic_Networks/traf2net/network_comparrison.ipynb#W6sdnNjb2RlLXJlbW90ZQ%3D%3D?line=11'>12</a>\u001b[0m ks_cd \u001b[39m=\u001b[39m ks_2samp(cd1, cd2)\n\u001b[0;32m---> <a href='vscode-notebook-cell://ssh-remote%2Bsc-030200l/localdata2/scho_jj/Pandemic_Networks/traf2net/network_comparrison.ipynb#W6sdnNjb2RlLXJlbW90ZQ%3D%3D?line=12'>13</a>\u001b[0m \u001b[39mprint\u001b[39m(cd_txt\u001b[39m.\u001b[39;49mformat(ks_cd\u001b[39m.\u001b[39;49mstatistic, ks_cd\u001b[39m.\u001b[39;49mpvalue))\n",
      "\u001b[0;31mKeyError\u001b[0m: 'statistic'"
     ]
    }
   ],
   "source": [
    "def ks_statistics(tn1, tn2):\n",
    "    duration_measurement1 = measure_group_sizes_and_durations(tn1)\n",
    "    ict1 = duration_measurement1.group_durations[1]\n",
    "    cd1 = duration_measurement1.contact_durations\n",
    "\n",
    "    duration_measurement2 = measure_group_sizes_and_durations(tn2)\n",
    "    ict2 = duration_measurement2.group_durations[1]\n",
    "    cd2 = duration_measurement2.contact_durations\n",
    "\n",
    "    print('ICT: ', ks_2samp(ict1, ict2, alternative='two-sided'))\n",
    "    cd_txt = 'contact duration distribution, KS: {statistic: .2f} p={pval: .2g}'\n",
    "    ks_cd = ks_2samp(cd1, cd2)\n",
    "    print(cd_txt.format(statistic=ks_cd.statistic, pval=ks_cd.pvalue))\n",
    "\n",
    "ks_statistics(EN.tn, EN.tn_approx)"
   ]
  }
 ],
 "metadata": {
  "kernelspec": {
   "display_name": "pandemic_networks_env",
   "language": "python",
   "name": "python3"
  },
  "language_info": {
   "codemirror_mode": {
    "name": "ipython",
    "version": 3
   },
   "file_extension": ".py",
   "mimetype": "text/x-python",
   "name": "python",
   "nbconvert_exporter": "python",
   "pygments_lexer": "ipython3",
   "version": "3.11.3"
  },
  "orig_nbformat": 4,
  "vscode": {
   "interpreter": {
    "hash": "e750523536d7e5de65bf3b617b1cbb3690b88c94c89a5c80691d983ad5bb64af"
   }
  }
 },
 "nbformat": 4,
 "nbformat_minor": 2
}
