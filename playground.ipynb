{
 "cells": [
  {
   "cell_type": "code",
   "execution_count": 1,
   "metadata": {},
   "outputs": [],
   "source": [
    "import pandas as pd\n",
    "import numpy as np\n",
    "import matplotlib.pyplot as plt\n",
    "import tacoma as tc\n",
    "import contact_networks as cn\n",
    "import util"
   ]
  },
  {
   "cell_type": "markdown",
   "metadata": {},
   "source": [
    "# Module for experiments with code snippets"
   ]
  },
  {
   "cell_type": "code",
   "execution_count": 11,
   "metadata": {},
   "outputs": [
    {
     "name": "stdout",
     "output_type": "stream",
     "text": [
      "start\n"
     ]
    }
   ],
   "source": [
    "# Simulation walkthrough for a single location\n",
    "# Load data as a pandas DataFrame\n",
    "df_base = pd.read_parquet('./VF_data/rns_data_2.parquet')[['p_id', 'activity_start_min', 'loc_id_end', 'activity_name_mct', 'activity_end_min']]\n",
    "df_base = df_base.astype({'activity_start_min': 'uint32', 'activity_end_min': 'uint32'})\n",
    "# Set simualtion time, for this example we simulate over the entire time range from the TAPAS data\n",
    "t_start, t_end = df_base.activity_start_min.min(), df_base.activity_end_min.max()\n",
    "\n",
    "# Select a location\n",
    "# group by location and sort by size (number of visitors during simulated day)\n",
    "locations = df_base.groupby('loc_id_end').size().sort_values(ascending=False).index.values\n",
    "# Some example locations\n",
    "loc1018 = df_base[df_base.loc_id_end == locations[1018]]\n",
    "loc1003 = df_base[df_base.loc_id_end == locations[1003]]\n",
    "loc1015 = df_base[df_base.loc_id_end == locations[1015]]\n",
    "loc2101 = df_base[df_base.loc_id_end == locations[2101]]\n",
    "\n",
    "# Start simulation\n",
    "# Build Location\n",
    "Loc = cn.Location(1015, 10, 10, 10, 10)\n",
    "# Build simulation class\n",
    "HN = cn.ContactNetwork(loc1018, Loc, t_start, t_end, n_scale=1)\n",
    "# (optional) set paraemters of simulation class\n",
    "HN.tlw_max_wt = 100\n",
    "\n",
    "HN.make_movement('random')"
   ]
  },
  {
   "cell_type": "code",
   "execution_count": 3,
   "metadata": {},
   "outputs": [
    {
     "name": "stdout",
     "output_type": "stream",
     "text": [
      "get baseline contacts\n",
      "done\n",
      " select contacts\n",
      "done\n",
      "import to tacoma\n"
     ]
    },
    {
     "ename": "",
     "evalue": "",
     "output_type": "error",
     "traceback": [
      "\u001b[1;31mThe Kernel crashed while executing code in the the current cell or a previous cell. Please review the code in the cell(s) to identify a possible cause of the failure. Click <a href='https://aka.ms/vscodeJupyterKernelCrash'>here</a> for more info. View Jupyter <a href='command:jupyter.viewOutput'>log</a> for further details."
     ]
    }
   ],
   "source": [
    "tn = HN.make_tacoma_network(None, None)"
   ]
  },
  {
   "cell_type": "code",
   "execution_count": 15,
   "metadata": {},
   "outputs": [],
   "source": [
    "def baseline(df, min_contact_duration=None):\n",
    "        start_times, end_times = df.activity_start_min.values, df.activity_end_min.values\n",
    "        event_ids = df.p_id.values\n",
    "        loc_id_end = df.loc_id_end.values[0]\n",
    "        # Takes a df containing all activities at location\n",
    "        # Returns all possible contacts\n",
    "\n",
    "        # Broadcast the start_time and end_time arrays for comparison with each other\n",
    "        overlap_start = np.maximum.outer(start_times, start_times)\n",
    "        overlap_end = np.minimum.outer(end_times, end_times)\n",
    "\n",
    "        # Calculate the overlap duration matrix \n",
    "        overlap_durations = np.maximum(overlap_end - overlap_start, np.zeros(shape=overlap_start.shape)).astype('uint16')\n",
    "        \n",
    "        # Set lower triangle and main diagonal to zero (overlap of an event with itself and double counting)\n",
    "        overlap_durations = np.triu(overlap_durations, 1)\n",
    "\n",
    "        # Extract contact rows, cols\n",
    "        rows, cols = np.where(overlap_durations > 0)\n",
    "        p_A = event_ids[rows].astype('int')\n",
    "\n",
    "        # Save contacts to new DataFrame\n",
    "        df_contacts = pd.DataFrame({'p_A': p_A,'p_B': event_ids[cols].astype('int'), \n",
    "                        'start_of_contact': overlap_start[rows, cols].astype('int'),\n",
    "                        'end_of_contact': overlap_end[rows, cols].astype('int'),\n",
    "                        'loc_id': np.repeat(loc_id_end, len(p_A)).astype('int32')})\n",
    "        \n",
    "        # Calculate contact durations\n",
    "        df_contacts['contact_duration'] = df_contacts.end_of_contact - df_contacts.start_of_contact\n",
    "\n",
    "        # (optional) drop contacts below specified contact duration\n",
    "        if min_contact_duration:\n",
    "            df_contacts = df_contacts[df_contacts.contact_duration >= min_contact_duration]\n",
    "        \n",
    "        return df_contacts\n",
    "\n",
    "\n",
    "p_add, avg_contact_duration, sigma = .001, 10, 3\n",
    "def random(contact):\n",
    "        # TODO: implement\n",
    "        tstart, tend = contact.start_of_contact, contact.end_of_contact\n",
    "\n",
    "        # Select contacts randomly\n",
    "        selected_contact = np.full(tend - tstart, False) \n",
    "        # Random start times\n",
    "        start = np.where(np.random.rand(tend - tstart) <= p_add)[0]\n",
    "        # Random durations\n",
    "        duration = np.ceil(np.random.normal(avg_contact_duration, sigma, len(start))).astype('int')\n",
    "        duration[duration <= 0] = 1\n",
    "        end = start + duration\n",
    "\n",
    "        # Avoid multi edges\n",
    "        for s, e in zip(start, end):\n",
    "            selected_contact[s: e + 1] = True\n",
    "        \n",
    "        selected_contact_start, selected_contact_end = util.boolean_blocks_indices(selected_contact)\n",
    "        selected_contact_start += tstart\n",
    "        selected_contact_end += tstart\n",
    "\n",
    "        n = len(selected_contact_start)\n",
    "        data = {'p_A': np.full(n, contact.p_A), 'p_B': np.full(n, contact.p_B), 'start_of_contact': selected_contact_start, 'end_of_contact': selected_contact_end}\n",
    "        return pd.DataFrame(data).reset_index(drop=True)\n",
    "\n",
    "df = loc1018#.head(400)\n",
    "# print(loc1015.shape)\n",
    "contacts = baseline(df)\n",
    "result = contacts.apply(random, axis=1)\n",
    "selected_contacts = pd.concat(result.to_list(), ignore_index=True)"
   ]
  },
  {
   "cell_type": "code",
   "execution_count": 16,
   "metadata": {},
   "outputs": [
    {
     "data": {
      "text/plain": [
       "p_A                   0\n",
       "p_B                   0\n",
       "start_of_contact    163\n",
       "end_of_contact      177\n",
       "contact_duration      1\n",
       "dtype: int64"
      ]
     },
     "execution_count": 16,
     "metadata": {},
     "output_type": "execute_result"
    }
   ],
   "source": [
    "selected_contacts['contact_duration'] = selected_contacts.end_of_contact - selected_contacts.start_of_contact\n",
    "selected_contacts.min()"
   ]
  },
  {
   "cell_type": "code",
   "execution_count": 18,
   "metadata": {},
   "outputs": [
    {
     "name": "stdout",
     "output_type": "stream",
     "text": [
      "1163 163\n",
      "start with edges\n",
      "edge changes errors:  0\n"
     ]
    }
   ],
   "source": [
    "unique_nodes = df.p_id.unique()\n",
    "tn = tc.edge_changes()\n",
    "tn.N = 2000 #len(unique_nodes)\n",
    "tmax, tmin = selected_contacts.end_of_contact.max(), selected_contacts.start_of_contact.min()\n",
    "Nt = tmax - tmin + 1\n",
    "print(tmax, tmin)\n",
    "tn.t = list(range(tmin, tmax + 1))\n",
    "tn.tmax = tmax + 1\n",
    "tn.time_unit = '60s'\n",
    "\n",
    "# Make edges\n",
    "print('start with edges')\n",
    "edges_in, edges_out = [[] for _ in range(Nt)], [[] for _ in range(Nt)]\n",
    "for _, c in selected_contacts.iterrows():\n",
    "    #print(c)\n",
    "    edges_in[c.start_of_contact - tmin].append([c.p_A, c.p_B])\n",
    "    edges_out[c.end_of_contact - tmin].append([c.p_A, c.p_B])\n",
    "\n",
    "tn.edges_in = edges_in\n",
    "tn.edges_out = edges_out\n",
    "\n",
    "# Check for errors\n",
    "print('edge changes errors: ', tc.verify(tn))"
   ]
  },
  {
   "cell_type": "code",
   "execution_count": 19,
   "metadata": {},
   "outputs": [
    {
     "data": {
      "text/plain": [
       "[<matplotlib.lines.Line2D at 0x7fc8976a4f90>]"
      ]
     },
     "execution_count": 19,
     "metadata": {},
     "output_type": "execute_result"
    },
    {
     "data": {
      "image/png": "[encoded data removed]",
      "text/plain": [
       "<Figure size 640x480 with 1 Axes>"
      ]
     },
     "metadata": {},
     "output_type": "display_data"
    }
   ],
   "source": [
    "_, _, m = tc.edge_counts(tn)\n",
    "plt.title('edge_counts')\n",
    "plt.plot(tn.t, m[:-1], alpha=.5)"
   ]
  },
  {
   "cell_type": "code",
   "execution_count": 32,
   "metadata": {},
   "outputs": [
    {
     "data": {
      "text/plain": [
       "(array([0.00000000e+00, 7.13514000e-03, 6.45989016e-03, 9.65607275e-03,\n",
       "        1.75790042e-02, 3.02737013e-02, 4.62321059e-02, 7.11938417e-02,\n",
       "        9.31844783e-02, 1.16345548e-01, 1.23863329e-01, 1.27982353e-01,\n",
       "        1.09818133e-01, 8.74673629e-02, 6.27532187e-02, 4.11002071e-02,\n",
       "        2.32736112e-02, 1.31448636e-02, 5.80714864e-03, 2.72350770e-03,\n",
       "        1.30548303e-03, 6.75249842e-04, 6.30233186e-04, 3.37624921e-04,\n",
       "        3.37624921e-04, 3.15116593e-04, 1.57558297e-04, 1.57558297e-04,\n",
       "        4.50166562e-05, 4.50166562e-05]),\n",
       " array([ 0.,  1.,  2.,  3.,  4.,  5.,  6.,  7.,  8.,  9., 10., 11., 12.,\n",
       "        13., 14., 15., 16., 17., 18., 19., 20., 21., 22., 23., 24., 25.,\n",
       "        26., 27., 28., 29., 30.]),\n",
       " <BarContainer object of 30 artists>)"
      ]
     },
     "execution_count": 32,
     "metadata": {},
     "output_type": "execute_result"
    },
    {
     "data": {
      "image/png": "[encoded data removed]",
      "text/plain": [
       "<Figure size 400x300 with 1 Axes>"
      ]
     },
     "metadata": {},
     "output_type": "display_data"
    }
   ],
   "source": [
    "from tacoma.analysis import plot_contact_durations\n",
    "result = tc.measure_group_sizes_and_durations(tn)\n",
    "\n",
    "fig, ax = plt.subplots(1, 1, figsize=(4,3))\n",
    "#plot_contact_durations(result, ax, time_unit='s', use_logarithmic_histogram=True)\n",
    "\n",
    "plt.hist(result.contact_durations, density=True, bins=range(0, 31))"
   ]
  },
  {
   "cell_type": "code",
   "execution_count": 38,
   "metadata": {},
   "outputs": [
    {
     "ename": "IndexError",
     "evalue": "too many indices for array: array is 1-dimensional, but 2 were indexed",
     "output_type": "error",
     "traceback": [
      "\u001b[0;31m---------------------------------------------------------------------------\u001b[0m",
      "\u001b[0;31mIndexError\u001b[0m                                Traceback (most recent call last)",
      "\u001b[1;32m/localdata2/scho_jj/Pandemic_Networks/traf2net/playground.ipynb Cell 10\u001b[0m line \u001b[0;36m3\n\u001b[1;32m      <a href='vscode-notebook-cell://ssh-remote%2Bsc-030200l/localdata2/scho_jj/Pandemic_Networks/traf2net/playground.ipynb#X12sdnNjb2RlLXJlbW90ZQ%3D%3D?line=0'>1</a>\u001b[0m arr \u001b[39m=\u001b[39m np\u001b[39m.\u001b[39marange(\u001b[39m0\u001b[39m, \u001b[39m100\u001b[39m, \u001b[39m1\u001b[39m)\n\u001b[1;32m      <a href='vscode-notebook-cell://ssh-remote%2Bsc-030200l/localdata2/scho_jj/Pandemic_Networks/traf2net/playground.ipynb#X12sdnNjb2RlLXJlbW90ZQ%3D%3D?line=1'>2</a>\u001b[0m slices \u001b[39m=\u001b[39m (\u001b[39mslice\u001b[39m(\u001b[39m10\u001b[39m, \u001b[39m15\u001b[39m, \u001b[39mNone\u001b[39;00m), \u001b[39mslice\u001b[39m(\u001b[39m27\u001b[39m, \u001b[39m31\u001b[39m, \u001b[39mNone\u001b[39;00m))\n\u001b[0;32m----> <a href='vscode-notebook-cell://ssh-remote%2Bsc-030200l/localdata2/scho_jj/Pandemic_Networks/traf2net/playground.ipynb#X12sdnNjb2RlLXJlbW90ZQ%3D%3D?line=2'>3</a>\u001b[0m arr[(\u001b[39mEllipsis\u001b[39;49m, \u001b[39m*\u001b[39;49mslices)]\n",
      "\u001b[0;31mIndexError\u001b[0m: too many indices for array: array is 1-dimensional, but 2 were indexed"
     ]
    }
   ],
   "source": [
    "arr = np.arange(0, 100, 1)\n",
    "slices = (slice(10, 15, None), slice(27, 31, None))\n",
    "arr[(Ellipsis, *slices)]"
   ]
  }
 ],
 "metadata": {
  "kernelspec": {
   "display_name": "pandemic_networks_env",
   "language": "python",
   "name": "python3"
  },
  "language_info": {
   "codemirror_mode": {
    "name": "ipython",
    "version": 3
   },
   "file_extension": ".py",
   "mimetype": "text/x-python",
   "name": "python",
   "nbconvert_exporter": "python",
   "pygments_lexer": "ipython3",
   "version": "3.11.3"
  }
 },
 "nbformat": 4,
 "nbformat_minor": 2
}
